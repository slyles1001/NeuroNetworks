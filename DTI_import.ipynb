{
 "cells": [
  {
   "cell_type": "code",
   "execution_count": 1,
   "metadata": {
    "ExecuteTime": {
     "end_time": "2018-04-23T13:07:56.683528Z",
     "start_time": "2018-04-23T13:07:56.584404Z"
    },
    "collapsed": true
   },
   "outputs": [],
   "source": [
    "%load_ext autoreload\n",
    "%autoreload"
   ]
  },
  {
   "cell_type": "code",
   "execution_count": 60,
   "metadata": {
    "ExecuteTime": {
     "end_time": "2018-04-24T14:00:36.718311Z",
     "start_time": "2018-04-24T14:00:36.714306Z"
    },
    "collapsed": true
   },
   "outputs": [],
   "source": [
    "#from dipy.data import get_data\n",
    "from nibabel import trackvis as tv\n",
    "from dipy.segment.clustering import QuickBundles\n",
    "import numpy as np\n",
    "import pandas as pd\n",
    "import matplotlib.pyplot as plt\n",
    "import matplotlib.colors as mpc\n",
    "import nibabel as nib"
   ]
  },
  {
   "cell_type": "code",
   "execution_count": 12,
   "metadata": {
    "ExecuteTime": {
     "end_time": "2018-04-23T14:46:59.956730Z",
     "start_time": "2018-04-23T14:46:58.722287Z"
    },
    "collapsed": false
   },
   "outputs": [
    {
     "name": "stdout",
     "output_type": "stream",
     "text": [
      "<class 'nibabel.cifti2.cifti2.Cifti2Image'>\n"
     ]
    }
   ],
   "source": [
    "# brn_avg = nib.load(\"./HCP_S1200_1003_rfMRI_MSMAll_groupPCA_d4500ROW_zcorr.dconn.nii\")\n",
    "# print(type(brn_avg.header))\n",
    "# ba_data = brn_avg.get_data()\n",
    "# print(type(ba_data))\n",
    "# brn_avg_em = nib.load(\"./HCP_S1200_1003_rfMRI_MSMAll_groupPCA_d4500_Eigenmaps.dtseries.nii\")\n",
    "# print(type(brn_avg_em))\n",
    "# sub_100206_d50 = nib.load(\"./workbench/bin_windows64/100206.dconn.nii\")\n",
    "# sd50 = sub_100206_d50.get_data() 'paging file too small'; guess we have to work with cifti and not numpy...\n",
    "# print(sd50.shape)\n",
    "# print(type(sub_100206_d50))\n",
    "# sub_100206_d50.shape"
   ]
  },
  {
   "cell_type": "code",
   "execution_count": 27,
   "metadata": {
    "ExecuteTime": {
     "end_time": "2018-04-24T10:14:54.237107Z",
     "start_time": "2018-04-24T10:14:52.939486Z"
    },
    "collapsed": false
   },
   "outputs": [],
   "source": [
    "sub_100206_d50 = nib.load(\"./workbench/bin_windows64/100206.dtseries.nii\")\n",
    "textract_100206_50 = pd.read_csv(\"HCP_PTN1200/node_timeseries/3T_HCP1200_MSMAll_d50_ts2/100206.txt\", sep=\" \", header = None)\n",
    "    #\"./workbench/bin_windows64/100206_txt.txt\", sep=\"\\t\", header=None)"
   ]
  },
  {
   "cell_type": "code",
   "execution_count": 57,
   "metadata": {
    "ExecuteTime": {
     "end_time": "2018-04-24T13:54:43.096271Z",
     "start_time": "2018-04-24T13:54:29.722553Z"
    },
    "collapsed": false
   },
   "outputs": [
    {
     "name": "stdout",
     "output_type": "stream",
     "text": [
      "1225\n"
     ]
    }
   ],
   "source": [
    "sub_100206_d50.shape\n",
    "textract_100206_50.shape\n",
    "p100206_corr = textract_100206_50.corr()#np.fill_diagonal(textract_100206_50.corr(), 0)\n",
    "\n",
    "# diagonal is perfectly correlated, cut that out\n",
    "\n",
    "p100206_corr[p100206_corr == 1] = 0\n",
    "\n",
    "cax = plt.matshow(p100206_corr)\n",
    "plt.colorbar(cax)\n",
    "plt.show()"
   ]
  },
  {
   "cell_type": "code",
   "execution_count": 61,
   "metadata": {
    "ExecuteTime": {
     "end_time": "2018-04-24T14:02:10.274260Z",
     "start_time": "2018-04-24T14:02:03.706049Z"
    },
    "collapsed": false
   },
   "outputs": [],
   "source": [
    "# we're discretizing the correlation\n",
    "adj_mat = p100206_corr * 25\n",
    "\n",
    "# remove bottom 10% of edges, (arbitrarily?)\n",
    "adj_mat[abs(adj_mat) < 2.5] = 0\n",
    "# bucket them\n",
    "adj_mat = np.floor(adj_mat)\n",
    "\n",
    "cax = plt.matshow(adj_mat)\n",
    "nm = mpc.Normalize(vmin=-15, vmax=15)\n",
    "plt.colorbar(cax, norm=nm)\n",
    "plt.show()\n",
    "\n",
    "\n"
   ]
  },
  {
   "cell_type": "code",
   "execution_count": 67,
   "metadata": {
    "ExecuteTime": {
     "end_time": "2018-04-24T14:26:47.645028Z",
     "start_time": "2018-04-24T14:26:47.635016Z"
    },
    "collapsed": false
   },
   "outputs": [
    {
     "ename": "ImportError",
     "evalue": "No module named 'igraph'",
     "output_type": "error",
     "traceback": [
      "\u001b[1;31m\u001b[0m",
      "\u001b[1;31mImportError\u001b[0mTraceback (most recent call last)",
      "\u001b[1;32m<ipython-input-67-d0bd22821702>\u001b[0m in \u001b[0;36m<module>\u001b[1;34m()\u001b[0m\n\u001b[1;32m----> 1\u001b[1;33m \u001b[1;32mimport\u001b[0m \u001b[0migraph\u001b[0m \u001b[1;32mas\u001b[0m \u001b[0mig\u001b[0m\u001b[1;33m\u001b[0m\u001b[0m\n\u001b[0m\u001b[0;32m      2\u001b[0m \u001b[1;33m\u001b[0m\u001b[0m\n\u001b[0;32m      3\u001b[0m \u001b[0mG_100206\u001b[0m \u001b[1;33m=\u001b[0m \u001b[0mig\u001b[0m\u001b[1;33m.\u001b[0m\u001b[0mAdjacency\u001b[0m\u001b[1;33m(\u001b[0m\u001b[0madj_mat\u001b[0m\u001b[1;33m,\u001b[0m \u001b[0mmode\u001b[0m\u001b[1;33m=\u001b[0m\u001b[1;34m\"ADJ_UNDIRECTED\"\u001b[0m\u001b[1;33m)\u001b[0m\u001b[1;33m\u001b[0m\u001b[0m\n\u001b[0;32m      4\u001b[0m \u001b[1;31m#G_100206.add_vertices(50)\u001b[0m\u001b[1;33m\u001b[0m\u001b[1;33m\u001b[0m\u001b[0m\n",
      "\u001b[1;31mImportError\u001b[0m: No module named 'igraph'"
     ]
    }
   ],
   "source": [
    "import igraph as ig\n",
    "\n",
    "G_100206 = ig.Adjacency(adj_mat, mode=\"ADJ_UNDIRECTED\")\n",
    "#G_100206.add_vertices(50)"
   ]
  },
  {
   "cell_type": "code",
   "execution_count": 8,
   "metadata": {
    "ExecuteTime": {
     "end_time": "2018-04-22T13:24:27.185085Z",
     "start_time": "2018-04-22T13:24:27.182081Z"
    },
    "collapsed": false
   },
   "outputs": [],
   "source": [
    "from dipy.segment.clustering import QuickBundles as qbs"
   ]
  },
  {
   "cell_type": "code",
   "execution_count": 10,
   "metadata": {
    "ExecuteTime": {
     "end_time": "2018-04-22T13:26:11.125106Z",
     "start_time": "2018-04-22T13:26:10.566407Z"
    },
    "collapsed": false
   },
   "outputs": [
    {
     "ename": "ValueError",
     "evalue": "Buffer has wrong number of dimensions (expected 2, got 1)",
     "output_type": "error",
     "traceback": [
      "\u001b[1;31m---------------------------------------------------------------------------\u001b[0m",
      "\u001b[1;31mValueError\u001b[0m                                Traceback (most recent call last)",
      "\u001b[1;32m<ipython-input-10-390f377dd7f2>\u001b[0m in \u001b[0;36m<module>\u001b[1;34m()\u001b[0m\n\u001b[0;32m      1\u001b[0m \u001b[0mqb\u001b[0m \u001b[1;33m=\u001b[0m \u001b[0mqbs\u001b[0m\u001b[1;33m(\u001b[0m\u001b[0mthreshold\u001b[0m\u001b[1;33m=\u001b[0m\u001b[1;36m10\u001b[0m\u001b[1;33m)\u001b[0m\u001b[1;33m\u001b[0m\u001b[0m\n\u001b[1;32m----> 2\u001b[1;33m \u001b[0mclusters\u001b[0m \u001b[1;33m=\u001b[0m \u001b[0mqb\u001b[0m\u001b[1;33m.\u001b[0m\u001b[0mcluster\u001b[0m\u001b[1;33m(\u001b[0m\u001b[0msd50\u001b[0m\u001b[1;33m)\u001b[0m\u001b[1;33m\u001b[0m\u001b[0m\n\u001b[0m",
      "\u001b[1;32mC:\\Anaconda3\\lib\\site-packages\\dipy\\segment\\clustering.py\u001b[0m in \u001b[0;36mcluster\u001b[1;34m(self, streamlines, ordering)\u001b[0m\n\u001b[0;32m    505\u001b[0m                                    \u001b[0mthreshold\u001b[0m\u001b[1;33m=\u001b[0m\u001b[0mself\u001b[0m\u001b[1;33m.\u001b[0m\u001b[0mthreshold\u001b[0m\u001b[1;33m,\u001b[0m\u001b[1;33m\u001b[0m\u001b[0m\n\u001b[0;32m    506\u001b[0m                                    \u001b[0mmax_nb_clusters\u001b[0m\u001b[1;33m=\u001b[0m\u001b[0mself\u001b[0m\u001b[1;33m.\u001b[0m\u001b[0mmax_nb_clusters\u001b[0m\u001b[1;33m,\u001b[0m\u001b[1;33m\u001b[0m\u001b[0m\n\u001b[1;32m--> 507\u001b[1;33m                                    ordering=ordering)\n\u001b[0m\u001b[0;32m    508\u001b[0m \u001b[1;33m\u001b[0m\u001b[0m\n\u001b[0;32m    509\u001b[0m         \u001b[0mcluster_map\u001b[0m\u001b[1;33m.\u001b[0m\u001b[0mrefdata\u001b[0m \u001b[1;33m=\u001b[0m \u001b[0mstreamlines\u001b[0m\u001b[1;33m\u001b[0m\u001b[0m\n",
      "\u001b[1;32mdipy\\segment\\clustering_algorithms.pyx\u001b[0m in \u001b[0;36mdipy.segment.clustering_algorithms.quickbundles\u001b[1;34m()\u001b[0m\n",
      "\u001b[1;31mValueError\u001b[0m: Buffer has wrong number of dimensions (expected 2, got 1)"
     ]
    }
   ],
   "source": [
    "qb = qbs(threshold=10)\n",
    "clusters = qb.cluster(sd50)"
   ]
  },
  {
   "cell_type": "code",
   "execution_count": null,
   "metadata": {
    "collapsed": true
   },
   "outputs": [],
   "source": [
    "nd = nib.load(\"C:\\Users\\Seth\\Desktop\\Internet Algorithms\\NeuroNetworks\\HCP_PTN1200\\node_timeseries\\3T_HCP1200_MSMAll_d50_ts2\")"
   ]
  },
  {
   "cell_type": "code",
   "execution_count": 3,
   "metadata": {
    "ExecuteTime": {
     "end_time": "2018-04-13T10:01:21.183878Z",
     "start_time": "2018-04-13T10:01:21.018671Z"
    },
    "collapsed": false
   },
   "outputs": [],
   "source": [
    "import dipy.reconst.dti as dti"
   ]
  },
  {
   "cell_type": "code",
   "execution_count": 5,
   "metadata": {
    "ExecuteTime": {
     "end_time": "2018-04-13T10:29:25.783670Z",
     "start_time": "2018-04-13T10:03:57.188168Z"
    },
    "collapsed": false
   },
   "outputs": [],
   "source": [
    "white_matter = (ba_data == 1) | (ba_data == 2)"
   ]
  },
  {
   "cell_type": "code",
   "execution_count": null,
   "metadata": {
    "collapsed": true
   },
   "outputs": [],
   "source": [
    "from dipy.reconst.shm import CsaOdfModel\n",
    "from dipy.data import default_sphere\n",
    "from dipy.direction import peaks_from_model\n",
    "\n",
    "csa_model = CsaOdfModel(gtab, sh_order=6)\n",
    "csa_peaks = peaks_from_model(csa_model, data, default_sphere,\n",
    "                             relative_peak_threshold=.8,\n",
    "                             min_separation_angle=45,\n",
    "                             mask=white_matter)"
   ]
  }
 ],
 "metadata": {
  "anaconda-cloud": {},
  "kernelspec": {
   "display_name": "Python [Root]",
   "language": "python",
   "name": "Python [Root]"
  },
  "language_info": {
   "codemirror_mode": {
    "name": "ipython",
    "version": 3
   },
   "file_extension": ".py",
   "mimetype": "text/x-python",
   "name": "python",
   "nbconvert_exporter": "python",
   "pygments_lexer": "ipython3",
   "version": "3.5.1"
  }
 },
 "nbformat": 4,
 "nbformat_minor": 2
}

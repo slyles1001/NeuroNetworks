{
 "cells": [
  {
   "cell_type": "markdown",
   "metadata": {},
   "source": [
    "## Imports"
   ]
  },
  {
   "cell_type": "code",
   "execution_count": null,
   "metadata": {
    "ExecuteTime": {
     "end_time": "2018-04-25T21:01:35.331734Z",
     "start_time": "2018-04-25T21:01:35.271659Z"
    },
    "collapsed": false
   },
   "outputs": [],
   "source": [
    "%load_ext autoreload\n",
    "%autoreload"
   ]
  },
  {
   "cell_type": "code",
   "execution_count": 254,
   "metadata": {
    "ExecuteTime": {
     "end_time": "2018-05-03T14:45:06.126913Z",
     "start_time": "2018-05-03T14:45:03.549692Z"
    },
    "collapsed": true
   },
   "outputs": [],
   "source": [
    "#from dipy.data import get_data\n",
    "from nibabel import trackvis as tv\n",
    "from dipy.segment.clustering import QuickBundles\n",
    "import numpy as np\n",
    "import pandas as pd\n",
    "import matplotlib.pyplot as plt\n",
    "import matplotlib.colors as mpc\n",
    "import nibabel as nib\n",
    "import networkx as nx\n",
    "import collections\n",
    "import os\n",
    "# from scipy.stats import norm\n",
    "from numpy import linspace\n",
    "import scipy\n",
    "import scipy.stats\n",
    "\n"
   ]
  },
  {
   "cell_type": "markdown",
   "metadata": {},
   "source": [
    "## Actual stuff"
   ]
  },
  {
   "cell_type": "code",
   "execution_count": 280,
   "metadata": {
    "ExecuteTime": {
     "end_time": "2018-05-03T15:52:27.506789Z",
     "start_time": "2018-05-03T15:52:27.499779Z"
    },
    "collapsed": true
   },
   "outputs": [],
   "source": [
    "def ts_to_graph(file, threshold):\n",
    "    \n",
    "    sub = nib.load(file)\n",
    "    sub = pd.DataFrame(sub.get_data()).T\n",
    "\n",
    "    cor = sub.corr() # correlation plot\n",
    "   \n",
    "    cor[cor == 1] = 0 # set the diagonal to 0\n",
    "    adjmat = cor * 10 # spread out the values some\n",
    "    adjmat[abs(adjmat) < threshold] = 0 # remove values with least correlation\n",
    "    adjmat = np.floor(adjmat) # discretize; don't use for now but maybe later\n",
    "\n",
    "    G = nx.from_numpy_matrix(adjmat.values)\n",
    "    return(G, adjmat)\n",
    "    "
   ]
  },
  {
   "cell_type": "code",
   "execution_count": 287,
   "metadata": {
    "ExecuteTime": {
     "end_time": "2018-05-03T15:54:00.976629Z",
     "start_time": "2018-05-03T15:54:00.971623Z"
    },
    "collapsed": true
   },
   "outputs": [],
   "source": [
    "def deg_counter(G):\n",
    "    deglist = [d for n, d in G.degree()]\n",
    "    deg_seq = sorted(deglist, reverse=True) # degree histogram\n",
    "    highest = deglist.index(max(deglist))\n",
    "    degreeCount = collections.Counter(deg_seq)\n",
    "    deg, cnt = zip(*degreeCount.items())\n",
    "    count = pd.Series(cnt, index=deg)#, name = file[-19:-13])\n",
    "    n_edges = len(list(G.edges))\n",
    "\n",
    "    return(count, n_edges, highest)\n"
   ]
  },
  {
   "cell_type": "code",
   "execution_count": 277,
   "metadata": {
    "ExecuteTime": {
     "end_time": "2018-05-03T15:40:32.296749Z",
     "start_time": "2018-05-03T15:40:32.290742Z"
    },
    "code_folding": [
     0
    ],
    "collapsed": true
   },
   "outputs": [],
   "source": [
    "def stats(df, edges):\n",
    "    ''' takes dataframe and edgecount list, returns dict with series or values\n",
    "        mdeg = mean # per deg, \n",
    "        sdeg = sd/deg, \n",
    "        medg = mean #edges, \n",
    "        sedg = sd #edges '''\n",
    "    d = {}\n",
    "    edges = pd.Series(edges)\n",
    "    df.fillna(0)\n",
    "    d[\"mn_deg\"] = df.mean(axis=1)\n",
    "    d[\"mn_deg\"].name = \"mean\"\n",
    "    d[\"sd_deg\"] = df.std(axis=1).fillna(0)\n",
    "    d[\"sd_deg\"].name = \"sd\"\n",
    "    d[\"mn_edge\"] = edges.mean()\n",
    "    d[\"sd_edge\"] = edges.std()\n",
    "    return(d)\n",
    "    "
   ]
  },
  {
   "cell_type": "code",
   "execution_count": 290,
   "metadata": {
    "ExecuteTime": {
     "end_time": "2018-05-03T16:06:30.317333Z",
     "start_time": "2018-05-03T16:06:30.291300Z"
    },
    "code_folding": [
     31
    ],
    "collapsed": false
   },
   "outputs": [],
   "source": [
    "def get_graph_avgs(n, d = 50, plots=0, writ = 0):\n",
    "    poss = [15, 25, 50, 100]\n",
    "    if d not in poss:\n",
    "        print(\"Please choose 15, 25, 50, or 100 partition\")\n",
    "        return\n",
    "    dstring = \"C:/Users/Seth/Desktop/Internet Algorithms/NeuroNetworks/3T_HCP1200_MSMAll_d%d_ts2_Z/\" % d\n",
    "    \n",
    "    df = pd.DataFrame()\n",
    "    edges = []\n",
    "    mean_adj = []\n",
    "    fnames = []\n",
    "    highest_deg_region = []\n",
    "    for i, file in enumerate(os.listdir(dstring)):\n",
    "        if i == n:\n",
    "            break\n",
    "        if not (i+1 % 10):\n",
    "            print(i)\n",
    "        filename = dstring + file\n",
    "        g, am = ts_to_graph(filename,  1.5)\n",
    "        gg, ec, h = deg_counter(g)\n",
    "        edges.append(ec);highest_deg_region.append(h);mean_adj.append(am)\n",
    "        df = pd.concat([df, gg], axis = 1)\n",
    "        fnames.append(file)\n",
    "    edgeCount = collections.Counter(edges)\n",
    "    enumb, cnt = zip(*edgeCount.items())\n",
    "    #amms = mean_adj.groupby([1,2]).sum()\n",
    "    avg_edge = pd.concat(mean_adj)#, keys=fnames)\n",
    "    #print(avg_edge)\n",
    "    avg_adj = avg_edge.groupby(avg_edge.index).mean()\n",
    "    if writ:\n",
    "        avg_adj.to_csv(\"./meanadj.csv\")\n",
    "    \n",
    "    if plots:\n",
    "        plots.close()\n",
    "        plt.bar(enumb, cnt)\n",
    "        plt.xlabel(\"number of edges\")\n",
    "        plt.ylabel('graphs having number')\n",
    "        plt.title('Histogram of edge counts for %d patients' %n)\n",
    "        plt.grid()\n",
    "        plt.savefig(\"../img/functional_edge_hist.pdf\")\n",
    "    #print(df)\n",
    "    out_d = {'stats':stats(df, edges), 'meanNumEdges':enumb, 'countEdge':cnt, 'maxDeg':highest_deg_region}\n",
    "    return(out_d)"
   ]
  },
  {
   "cell_type": "code",
   "execution_count": 291,
   "metadata": {
    "ExecuteTime": {
     "end_time": "2018-05-03T16:06:42.688798Z",
     "start_time": "2018-05-03T16:06:33.475280Z"
    },
    "collapsed": false
   },
   "outputs": [],
   "source": [
    "out_d = get_graph_avgs(2, writ=1, plots=0)"
   ]
  },
  {
   "cell_type": "code",
   "execution_count": 292,
   "metadata": {
    "ExecuteTime": {
     "end_time": "2018-05-03T16:07:04.756383Z",
     "start_time": "2018-05-03T16:07:04.250751Z"
    },
    "collapsed": false
   },
   "outputs": [
    {
     "name": "stdout",
     "output_type": "stream",
     "text": [
      "{'mn_deg': 0    26.5\n",
      "1    15.5\n",
      "2     4.0\n",
      "3     1.5\n",
      "4     2.0\n",
      "8     1.0\n",
      "Name: mean, dtype: float64, 'sd_deg': 0    6.363961\n",
      "1    0.707107\n",
      "2    2.828427\n",
      "3    0.707107\n",
      "4    1.414214\n",
      "8    0.000000\n",
      "Name: sd, dtype: float64, 'mn_edge': 20.0, 'sd_edge': 9.899494936611665}\n"
     ]
    }
   ],
   "source": [
    "print(out_d['stats'])"
   ]
  },
  {
   "cell_type": "code",
   "execution_count": 274,
   "metadata": {
    "ExecuteTime": {
     "end_time": "2018-05-03T15:34:51.855185Z",
     "start_time": "2018-05-03T15:34:51.843170Z"
    },
    "collapsed": true
   },
   "outputs": [],
   "source": [
    "def fit_n_edge_test(x, y):\n",
    "    ''' x is number of edges\n",
    "        y is count of '''\n",
    "    size = len(y)\n",
    "    dist_names = ['alpha', 'beta', 'arcsine', 'rayleigh']\n",
    "    plt.close()\n",
    "    plt.bar(x, y)\n",
    "    plt.xlabel(\"number of edges\")\n",
    "    plt.ylabel('graphs having number')\n",
    "    plt.title('Histogram of edge counts for %d patients' % size)\n",
    "    plt.grid()\n",
    "    for dist_name in dist_names:\n",
    "        dist = getattr(scipy.stats, dist_name)\n",
    "        param = dist.fit(y)\n",
    "        pdf_fitted = dist.pdf(x, *param[:-2], loc=param[-2], scale=param[-1]) * size\n",
    "        plt.plot(pdf_fitted, label=dist_name)\n",
    "        plt.xlim(0,47)\n",
    "    plt.legend(loc='upper left')\n",
    "    plt.show()\n",
    "    # picking 150 of from a normal distrubution\n",
    "    # with mean 0 and standard deviation 1\n",
    "    "
   ]
  },
  {
   "cell_type": "code",
   "execution_count": 269,
   "metadata": {
    "ExecuteTime": {
     "end_time": "2018-05-03T14:49:27.091128Z",
     "start_time": "2018-05-03T14:49:24.965471Z"
    },
    "collapsed": false
   },
   "outputs": [
    {
     "name": "stderr",
     "output_type": "stream",
     "text": [
      "C:\\Anaconda3\\lib\\site-packages\\scipy\\optimize\\minpack.py:161: RuntimeWarning: The number of calls to function has reached maxfev = 600.\n",
      "  warnings.warn(msg, RuntimeWarning)\n"
     ]
    }
   ],
   "source": [
    "fit_n_edge_test(nedges, count)"
   ]
  },
  {
   "cell_type": "markdown",
   "metadata": {
    "heading_collapsed": true
   },
   "source": [
    "## Junk code messing around with nii files"
   ]
  },
  {
   "cell_type": "code",
   "execution_count": null,
   "metadata": {
    "ExecuteTime": {
     "end_time": "2018-04-22T13:24:27.185085Z",
     "start_time": "2018-04-22T13:24:27.182081Z"
    },
    "collapsed": true,
    "hidden": true
   },
   "outputs": [],
   "source": [
    "from dipy.segment.clustering import QuickBundles as qbs"
   ]
  },
  {
   "cell_type": "code",
   "execution_count": null,
   "metadata": {
    "ExecuteTime": {
     "end_time": "2018-05-02T16:09:58.171943Z",
     "start_time": "2018-05-02T16:09:58.168939Z"
    },
    "collapsed": true,
    "hidden": true
   },
   "outputs": [],
   "source": [
    "# brn_avg = nib.load(\"./HCP_S1200_1003_rfMRI_MSMAll_groupPCA_d4500ROW_zcorr.dconn.nii\")\n",
    "# print(type(brn_avg.header))\n",
    "# ba_data = brn_avg.get_data()\n",
    "# print(type(ba_data))\n",
    "# brn_avg_em = nib.load(\"./HCP_S1200_1003_rfMRI_MSMAll_groupPCA_d4500_Eigenmaps.dtseries.nii\")\n",
    "# print(type(brn_avg_em))\n",
    "# sub_100206_d50 = nib.load(\"./workbench/bin_windows64/100206.dconn.nii\")\n",
    "# sd50 = sub_100206_d50.get_data() 'paging file too small'; guess we have to work with cifti and not numpy...\n",
    "# print(sd50.shape)\n",
    "# print(type(sub_100206_d50))\n",
    "# sub_100206_d50.shape"
   ]
  },
  {
   "cell_type": "code",
   "execution_count": null,
   "metadata": {
    "ExecuteTime": {
     "end_time": "2018-05-02T16:10:00.768188Z",
     "start_time": "2018-05-02T16:09:59.889089Z"
    },
    "collapsed": false,
    "hidden": true
   },
   "outputs": [],
   "source": [
    "#sub_100206_d50 = nib.load(\"./workbench/bin_windows64/100206.dtseries.nii\")\n",
    "#textract_100206_50 = pd.read_csv(\"100206.txt\", sep=\" \", header = None)#mac\n",
    "#\"HCP_PTN1200/node_timeseries/3T_HCP1200_MSMAll_d50_ts2/\", sep = \" \", header = None)\n",
    "#sub_100206_d50.shape"
   ]
  },
  {
   "cell_type": "code",
   "execution_count": null,
   "metadata": {
    "ExecuteTime": {
     "end_time": "2018-05-02T17:51:55.184436Z",
     "start_time": "2018-05-02T17:51:51.304586Z"
    },
    "code_folding": [],
    "collapsed": false,
    "hidden": true
   },
   "outputs": [],
   "source": [
    "textract_100206_50 = pd.read_csv(\"./workbench/bin_windows64/100206_txt.txt\", sep=\"\\t\", header=None) #pc\n",
    "print(textract_100206_50.shape)\n",
    "p100206_corr = textract_100206_50.corr()#np.fill_diagonal(textract_100206_50.corr(), 0)\n",
    "print(p100206_corr.head())\n",
    "# diagonal is perfectly correlated, cut that out\n",
    "\n",
    "p100206_corr[p100206_corr == 1] = 0"
   ]
  },
  {
   "cell_type": "code",
   "execution_count": null,
   "metadata": {
    "collapsed": true,
    "hidden": true
   },
   "outputs": [],
   "source": [
    "cax = plt.matshow(p100206_corr)\n",
    "plt.colorbar(cax)\n",
    "plt.show()\n",
    "    # we're discretizing the correlation\n",
    "adj_mat = p100206_corr * 10\n",
    "\n",
    "# remove bottom 15% of edges, (arbitrarily?)\n",
    "adj_mat[abs(adj_mat) < 1.5] = 0\n",
    "# bucket them\n",
    "adj_mat = np.floor(adj_mat)\n",
    "\n",
    "cax = plt.matshow(adj_mat)\n",
    "nm = mpc.Normalize(vmin=-4, vmax=4)\n",
    "plt.colorbar(cax, norm=nm)\n",
    "plt.show()"
   ]
  },
  {
   "cell_type": "code",
   "execution_count": null,
   "metadata": {
    "ExecuteTime": {
     "end_time": "2018-04-22T13:26:11.125106Z",
     "start_time": "2018-04-22T13:26:10.566407Z"
    },
    "collapsed": false,
    "hidden": true
   },
   "outputs": [],
   "source": [
    "qb = qbs(threshold=10)\n",
    "clusters = qb.cluster(sd50)"
   ]
  },
  {
   "cell_type": "code",
   "execution_count": null,
   "metadata": {
    "collapsed": true,
    "hidden": true
   },
   "outputs": [],
   "source": [
    "nd = nib.load(\"C:\\Users\\Seth\\Desktop\\Internet Algorithms\\NeuroNetworks\\HCP_PTN1200\\node_timeseries\\3T_HCP1200_MSMAll_d50_ts2\")"
   ]
  },
  {
   "cell_type": "code",
   "execution_count": null,
   "metadata": {
    "ExecuteTime": {
     "end_time": "2018-04-13T10:01:21.183878Z",
     "start_time": "2018-04-13T10:01:21.018671Z"
    },
    "collapsed": true,
    "hidden": true
   },
   "outputs": [],
   "source": [
    "import dipy.reconst.dti as dti"
   ]
  },
  {
   "cell_type": "code",
   "execution_count": null,
   "metadata": {
    "ExecuteTime": {
     "end_time": "2018-04-13T10:29:25.783670Z",
     "start_time": "2018-04-13T10:03:57.188168Z"
    },
    "collapsed": true,
    "hidden": true
   },
   "outputs": [],
   "source": [
    "white_matter = (ba_data == 1) | (ba_data == 2)"
   ]
  },
  {
   "cell_type": "code",
   "execution_count": null,
   "metadata": {
    "collapsed": true,
    "hidden": true
   },
   "outputs": [],
   "source": [
    "from dipy.reconst.shm import CsaOdfModel\n",
    "from dipy.data import default_sphere\n",
    "from dipy.direction import peaks_from_model\n",
    "\n",
    "csa_model = CsaOdfModel(gtab, sh_order=6)\n",
    "csa_peaks = peaks_from_model(csa_model, data, default_sphere,\n",
    "                             relative_peak_threshold=.8,\n",
    "                             min_separation_angle=45,\n",
    "                             mask=white_matter)"
   ]
  },
  {
   "cell_type": "code",
   "execution_count": null,
   "metadata": {
    "ExecuteTime": {
     "end_time": "2018-04-25T22:47:11.052621Z",
     "start_time": "2018-04-25T22:47:04.692671Z"
    },
    "collapsed": false,
    "hidden": true
   },
   "outputs": [],
   "source": [
    "# can't use igraph bc/ windows.\n",
    "#import igraph as ig; G_100206 = ig.Graph.Adjacency((abs(adj_mat > 0)).tolist())\n",
    "\n",
    "G_100206 = nx.from_numpy_matrix(adj_mat.values)#, create_using=nx.MultiGraph())\n",
    "len(G_100206.edges())\n",
    "#G_100206.edges(data=True)\n",
    "#nx.diameter(G_100206) # #48 has weight under 10%\n",
    "#comps = nx.connected_components(G_100206)\n",
    "#[print(comp) for comp in comps]\n",
    "\n",
    "#print(len(list(G_100206.edges())))\n",
    "\n",
    "degree_sequence = sorted([d for n, d in G_100206.degree()], reverse=True)  # degree sequence\n",
    "# print \"Degree sequence\", degree_sequence\n",
    "degreeCount = collections.Counter(degree_sequence)\n",
    "deg, cnt = zip(*degreeCount.items())\n",
    "\n",
    "fig, ax = plt.subplots()\n",
    "plt.bar(deg, cnt, width=0.80, color='b')\n",
    "\n",
    "plt.title(\"Degree Histogram\")\n",
    "plt.ylabel(\"Count\")\n",
    "plt.xlabel(\"Degree\")\n",
    "ax.set_xticks([d + 0.4 for d in deg])\n",
    "ax.set_xticklabels(deg)\n",
    "\n",
    "# draw graph in inset\n",
    "plt.axes([0.4, 0.4, 0.5, 0.5])\n",
    "Gcc = sorted(nx.connected_component_subgraphs(G_100206), key=len, reverse=True)[0]\n",
    "pos = nx.spring_layout(G_100206)\n",
    "plt.axis('off')\n",
    "nx.draw_networkx_nodes(G_100206, pos, node_size=20)\n",
    "nx.draw_networkx_edges(G_100206, pos, alpha=0.4)\n",
    "\n",
    "plt.show()\n"
   ]
  }
 ],
 "metadata": {
  "anaconda-cloud": {},
  "kernelspec": {
   "display_name": "Python [Root]",
   "language": "python",
   "name": "Python [Root]"
  },
  "language_info": {
   "codemirror_mode": {
    "name": "ipython",
    "version": 3
   },
   "file_extension": ".py",
   "mimetype": "text/x-python",
   "name": "python",
   "nbconvert_exporter": "python",
   "pygments_lexer": "ipython3",
   "version": "3.5.1"
  }
 },
 "nbformat": 4,
 "nbformat_minor": 2
}

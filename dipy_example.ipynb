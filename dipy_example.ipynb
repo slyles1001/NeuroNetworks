{
 "cells": [
  {
   "cell_type": "markdown",
   "metadata": {
    "heading_collapsed": true
   },
   "source": [
    "## Basic Tracking\n",
    "\n",
    "http://nipy.org/dipy/examples_built/introduction_to_basic_tracking.html#example-introduction-to-basic-tracking"
   ]
  },
  {
   "cell_type": "code",
   "execution_count": 1,
   "metadata": {
    "ExecuteTime": {
     "end_time": "2018-04-13T06:46:44.625961Z",
     "start_time": "2018-04-13T06:46:44.566887Z"
    },
    "collapsed": false,
    "hidden": true
   },
   "outputs": [],
   "source": [
    "%load_ext autoreload\n",
    "%autoreload"
   ]
  },
  {
   "cell_type": "code",
   "execution_count": 2,
   "metadata": {
    "ExecuteTime": {
     "end_time": "2018-04-13T06:46:46.580407Z",
     "start_time": "2018-04-13T06:46:45.597177Z"
    },
    "collapsed": true,
    "hidden": true
   },
   "outputs": [],
   "source": [
    "from dipy.data import read_stanford_labels\n",
    "import numpy as np\n",
    "import pandas as pd\n",
    "import matplotlib.pyplot as plt"
   ]
  },
  {
   "cell_type": "code",
   "execution_count": 3,
   "metadata": {
    "ExecuteTime": {
     "end_time": "2018-04-13T06:46:48.791176Z",
     "start_time": "2018-04-13T06:46:47.205190Z"
    },
    "collapsed": false,
    "hidden": true
   },
   "outputs": [
    {
     "name": "stdout",
     "output_type": "stream",
     "text": [
      "Dataset is already in place. If you want to fetch it again please first remove the folder C:\\Users\\Seth\\.dipy\\stanford_hardi \n",
      "Dataset is already in place. If you want to fetch it again please first remove the folder C:\\Users\\Seth\\.dipy\\stanford_hardi \n",
      "Dataset is already in place. If you want to fetch it again please first remove the folder C:\\Users\\Seth\\.dipy\\stanford_hardi \n"
     ]
    }
   ],
   "source": [
    "hardi_img, gtab, labels_img = read_stanford_labels();\n",
    "data = hardi_img.get_data();\n",
    "labels = labels_img.get_data();\n",
    "affine = hardi_img.affine"
   ]
  },
  {
   "cell_type": "code",
   "execution_count": 9,
   "metadata": {
    "ExecuteTime": {
     "end_time": "2018-04-13T10:16:25.786120Z",
     "start_time": "2018-04-13T10:14:06.371930Z"
    },
    "collapsed": false,
    "hidden": true
   },
   "outputs": [
    {
     "name": "stdout",
     "output_type": "stream",
     "text": [
      "<class 'dipy.core.gradients.GradientTable'>\n"
     ]
    }
   ],
   "source": [
    "print(type(gtab))"
   ]
  },
  {
   "cell_type": "code",
   "execution_count": 4,
   "metadata": {
    "ExecuteTime": {
     "end_time": "2018-04-13T06:46:49.826472Z",
     "start_time": "2018-04-13T06:46:49.823467Z"
    },
    "collapsed": true,
    "hidden": true
   },
   "outputs": [],
   "source": [
    "white_matter = (labels == 1) | (labels == 2)"
   ]
  },
  {
   "cell_type": "code",
   "execution_count": 5,
   "metadata": {
    "ExecuteTime": {
     "end_time": "2018-04-13T06:47:03.654782Z",
     "start_time": "2018-04-13T06:46:50.429226Z"
    },
    "collapsed": true,
    "hidden": true
   },
   "outputs": [],
   "source": [
    "from dipy.reconst.shm import CsaOdfModel\n",
    "from dipy.data import default_sphere\n",
    "from dipy.direction import peaks_from_model\n",
    "\n",
    "csa_model = CsaOdfModel(gtab, sh_order=6)\n",
    "csa_peaks = peaks_from_model(csa_model, data, default_sphere,\n",
    "                             relative_peak_threshold=.8,\n",
    "                             min_separation_angle=45,\n",
    "                             mask=white_matter)"
   ]
  },
  {
   "cell_type": "code",
   "execution_count": 6,
   "metadata": {
    "ExecuteTime": {
     "end_time": "2018-04-13T06:47:03.657786Z",
     "start_time": "2018-04-13T06:47:03.655783Z"
    },
    "collapsed": true,
    "hidden": true
   },
   "outputs": [],
   "source": [
    "from dipy.tracking.local import ThresholdTissueClassifier\n",
    "\n",
    "classifier = ThresholdTissueClassifier(csa_peaks.gfa, .25)"
   ]
  },
  {
   "cell_type": "code",
   "execution_count": 7,
   "metadata": {
    "ExecuteTime": {
     "end_time": "2018-04-13T06:47:03.753906Z",
     "start_time": "2018-04-13T06:47:03.658787Z"
    },
    "collapsed": true,
    "hidden": true
   },
   "outputs": [],
   "source": [
    "from dipy.tracking import utils\n",
    "\n",
    "seed_mask = labels == 2\n",
    "seeds = utils.seeds_from_mask(seed_mask, density=[2, 2, 2], affine=affine)"
   ]
  },
  {
   "cell_type": "code",
   "execution_count": 8,
   "metadata": {
    "ExecuteTime": {
     "end_time": "2018-04-13T06:48:41.584401Z",
     "start_time": "2018-04-13T06:47:05.511105Z"
    },
    "collapsed": false,
    "hidden": true
   },
   "outputs": [
    {
     "name": "stdout",
     "output_type": "stream",
     "text": [
      "True\n"
     ]
    }
   ],
   "source": [
    "from dipy.tracking.local import LocalTracking\n",
    "from dipy.viz import fvtk\n",
    "from dipy.viz.colormap import line_colors\n",
    "\n",
    "# Initialization of LocalTracking. The computation happens in the next step.\n",
    "streamlines = LocalTracking(csa_peaks, classifier, seeds, affine, step_size=.5)\n",
    "\n",
    "# Compute streamlines and store as a list.\n",
    "streamlines = list(streamlines)\n",
    "\n",
    "# Prepare the display objects.\n",
    "color = line_colors(streamlines)\n",
    "print(fvtk.have_vtk)\n",
    "if fvtk.have_vtk:\n",
    "    streamlines_actor = fvtk.line(streamlines, line_colors(streamlines))\n",
    "\n",
    "    # Create the 3D display.\n",
    "    r = fvtk.ren()\n",
    "    fvtk.add(r, streamlines_actor)\n",
    "\n",
    "    # Save still images for this static example. Or for interactivity use\n",
    "    # fvtk.show\n",
    "    fvtk.show(r)#.record(r, n_frames=1, out_path='./deterministic.png',\n",
    "                #size=(800, 800))"
   ]
  },
  {
   "cell_type": "markdown",
   "metadata": {
    "collapsed": true
   },
   "source": [
    "## Tractography Clustering\n",
    "\n",
    "http://nipy.org/dipy/examples_built/segment_quickbundles.html#example-segment-quickbundles"
   ]
  },
  {
   "cell_type": "code",
   "execution_count": 1,
   "metadata": {
    "ExecuteTime": {
     "end_time": "2018-04-22T13:18:38.864359Z",
     "start_time": "2018-04-22T13:18:27.071607Z"
    },
    "collapsed": true
   },
   "outputs": [],
   "source": [
    "import numpy as np\n",
    "from nibabel import trackvis as tv\n",
    "from dipy.segment.clustering import QuickBundles\n",
    "from dipy.io.pickles import save_pickle\n",
    "from dipy.data import get_data\n",
    "from dipy.viz import fvtk"
   ]
  },
  {
   "cell_type": "code",
   "execution_count": 2,
   "metadata": {
    "ExecuteTime": {
     "end_time": "2018-04-22T13:18:45.250348Z",
     "start_time": "2018-04-22T13:18:45.248345Z"
    },
    "collapsed": true
   },
   "outputs": [],
   "source": [
    "fname = get_data('fornix')"
   ]
  },
  {
   "cell_type": "code",
   "execution_count": 20,
   "metadata": {
    "ExecuteTime": {
     "end_time": "2018-04-22T13:33:39.884473Z",
     "start_time": "2018-04-22T13:33:39.879467Z"
    },
    "collapsed": true
   },
   "outputs": [],
   "source": [
    "streams, hdr = tv.read(fname)\n",
    "streamlines = [i[0] for i in streams]"
   ]
  },
  {
   "cell_type": "code",
   "execution_count": 22,
   "metadata": {
    "ExecuteTime": {
     "end_time": "2018-04-22T13:34:11.394890Z",
     "start_time": "2018-04-22T13:34:11.391887Z"
    },
    "collapsed": false
   },
   "outputs": [
    {
     "name": "stdout",
     "output_type": "stream",
     "text": [
      "300\n",
      "3\n",
      "79\n"
     ]
    }
   ],
   "source": [
    "print(len(streams))\n",
    "print(len(streams[0]))\n",
    "print(len(streams[0][0]))"
   ]
  },
  {
   "cell_type": "code",
   "execution_count": 11,
   "metadata": {
    "ExecuteTime": {
     "end_time": "2018-04-22T13:22:25.027273Z",
     "start_time": "2018-04-22T13:22:25.023268Z"
    },
    "collapsed": true
   },
   "outputs": [],
   "source": [
    "qb = QuickBundles(threshold=10.)\n",
    "clusters = qb.cluster(streamlines)"
   ]
  },
  {
   "cell_type": "code",
   "execution_count": 19,
   "metadata": {
    "ExecuteTime": {
     "end_time": "2018-04-22T13:32:09.695653Z",
     "start_time": "2018-04-22T13:32:09.691648Z"
    },
    "collapsed": false
   },
   "outputs": [
    {
     "name": "stdout",
     "output_type": "stream",
     "text": [
      "300\n"
     ]
    },
    {
     "data": {
      "text/plain": [
       "(79, 3)"
      ]
     },
     "execution_count": 19,
     "metadata": {},
     "output_type": "execute_result"
    }
   ],
   "source": [
    "print(len(streamlines))\n",
    "streamlines[0].shape\n",
    "#streamlines"
   ]
  },
  {
   "cell_type": "code",
   "execution_count": 10,
   "metadata": {
    "ExecuteTime": {
     "end_time": "2018-04-22T13:22:01.545900Z",
     "start_time": "2018-04-22T13:22:01.542896Z"
    },
    "collapsed": false
   },
   "outputs": [
    {
     "name": "stdout",
     "output_type": "stream",
     "text": [
      "<class 'dipy.segment.clustering.QuickBundles'>\n"
     ]
    }
   ],
   "source": [
    "print(type(qb))"
   ]
  },
  {
   "cell_type": "code",
   "execution_count": 9,
   "metadata": {
    "ExecuteTime": {
     "end_time": "2018-04-22T13:21:36.236239Z",
     "start_time": "2018-04-22T13:21:36.231233Z"
    },
    "collapsed": false
   },
   "outputs": [
    {
     "name": "stdout",
     "output_type": "stream",
     "text": [
      "Nb. clusters: 4\n",
      "Cluster sizes: <map object at 0x000000B41873F208>\n",
      "Small clusters: [False False False  True]\n",
      "Streamlines indices of the first cluster:\n",
      " [0, 7, 8, 10, 11, 12, 13, 14, 15, 18, 26, 30, 33, 35, 41, 65, 66, 85, 100, 101, 105, 115, 116, 119, 122, 123, 124, 125, 126, 128, 129, 135, 139, 142, 143, 144, 148, 151, 159, 167, 175, 180, 181, 185, 200, 208, 210, 224, 237, 246, 249, 251, 256, 267, 270, 280, 284, 293, 296, 297, 299]\n",
      "Centroid of the last cluster:\n",
      " [[  84.83773804  117.92590332   77.32278442]\n",
      " [  86.10850525  115.84362793   81.91885376]\n",
      " [  86.40357208  112.25676727   85.72930145]\n",
      " [  86.48336792  107.60327911   88.13782501]\n",
      " [  86.23897552  102.5100708    89.29447174]\n",
      " [  85.04563904   97.46020508   88.54240417]\n",
      " [  82.60240173   93.14851379   86.84208679]\n",
      " [  78.98937225   89.57682037   85.63652039]\n",
      " [  74.72344208   86.60827637   84.9391861 ]\n",
      " [  70.40846252   85.15874481   82.4484024 ]\n",
      " [  66.74534607   86.00262451   78.82582092]\n",
      " [  64.02451324   88.43942261   75.0697403 ]]\n"
     ]
    }
   ],
   "source": [
    "print(\"Nb. clusters:\", len(clusters))\n",
    "print(\"Cluster sizes:\", map(len, clusters))\n",
    "print(\"Small clusters:\", clusters < 10)\n",
    "print(\"Streamlines indices of the first cluster:\\n\", clusters[0].indices)\n",
    "print(\"Centroid of the last cluster:\\n\", clusters[-1].centroid)"
   ]
  },
  {
   "cell_type": "code",
   "execution_count": null,
   "metadata": {
    "collapsed": true
   },
   "outputs": [],
   "source": []
  },
  {
   "cell_type": "code",
   "execution_count": null,
   "metadata": {
    "collapsed": true
   },
   "outputs": [],
   "source": []
  }
 ],
 "metadata": {
  "anaconda-cloud": {},
  "kernelspec": {
   "display_name": "Python [Root]",
   "language": "python",
   "name": "Python [Root]"
  },
  "language_info": {
   "codemirror_mode": {
    "name": "ipython",
    "version": 3
   },
   "file_extension": ".py",
   "mimetype": "text/x-python",
   "name": "python",
   "nbconvert_exporter": "python",
   "pygments_lexer": "ipython3",
   "version": "3.5.1"
  }
 },
 "nbformat": 4,
 "nbformat_minor": 2
}
